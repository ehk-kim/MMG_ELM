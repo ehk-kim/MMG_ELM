{
 "cells": [
  {
   "cell_type": "raw",
   "metadata": {
    "vscode": {
     "languageId": "raw"
    }
   },
   "source": [
    "BLAST counts"
   ]
  },
  {
   "cell_type": "code",
   "execution_count": 1,
   "metadata": {},
   "outputs": [],
   "source": [
    "import pandas as pd\n",
    "import matplotlib.pyplot as plt"
   ]
  },
  {
   "cell_type": "code",
   "execution_count": 2,
   "metadata": {},
   "outputs": [],
   "source": [
    "def blast_counts(fp):\n",
    "    blast = pd.read_csv(fp)\n",
    "    unique = blast['ASV_ID'].drop_duplicates()\n",
    "    return unique"
   ]
  },
  {
   "cell_type": "code",
   "execution_count": null,
   "metadata": {},
   "outputs": [],
   "source": [
    "blast50 = blast_counts('blast_50_ccase.csv')\n",
    "blast60 = blast_counts('blast_60_ccase.csv')\n",
    "blast70 = blast_counts('blast_70_ccase.csv')\n",
    "blast80 = blast_counts('blast_80_ccase.csv')\n",
    "blast90 = blast_counts('blast_90_ccase.csv')"
   ]
  },
  {
   "cell_type": "raw",
   "metadata": {},
   "source": [
    "ASV counts for each BLAST threshold\n",
    "\n",
    "50: 1401\n",
    "60: 1351\n",
    "70: 1257\n",
    "80: 1133\n",
    "90: 970"
   ]
  },
  {
   "cell_type": "code",
   "execution_count": 14,
   "metadata": {},
   "outputs": [
    {
     "data": {
      "text/plain": [
       "[<matplotlib.lines.Line2D at 0x1c8e45ede50>]"
      ]
     },
     "execution_count": 14,
     "metadata": {},
     "output_type": "execute_result"
    },
    {
     "data": {
      "image/png": "[encoded data removed]",
      "text/plain": [
       "<Figure size 640x480 with 1 Axes>"
      ]
     },
     "metadata": {},
     "output_type": "display_data"
    }
   ],
   "source": [
    "x = [50, 60, 70, 80, 90]\n",
    "y = [1401, 1351, 1257, 1133, 970]\n",
    "plt.plot(x, y, '-o')"
   ]
  },
  {
   "cell_type": "raw",
   "metadata": {
    "vscode": {
     "languageId": "raw"
    }
   },
   "source": [
    "MMG with species only"
   ]
  },
  {
   "cell_type": "code",
   "execution_count": 2,
   "metadata": {},
   "outputs": [
    {
     "data": {
      "text/html": [
       "<div>\n",
       "<style scoped>\n",
       "    .dataframe tbody tr th:only-of-type {\n",
       "        vertical-align: middle;\n",
       "    }\n",
       "\n",
       "    .dataframe tbody tr th {\n",
       "        vertical-align: top;\n",
       "    }\n",
       "\n",
       "    .dataframe thead th {\n",
       "        text-align: right;\n",
       "    }\n",
       "</style>\n",
       "<table border=\"1\" class=\"dataframe\">\n",
       "  <thead>\n",
       "    <tr style=\"text-align: right;\">\n",
       "      <th></th>\n",
       "      <th>Sample.ID</th>\n",
       "      <th>JGI.ID</th>\n",
       "      <th>GOLD.ID</th>\n",
       "    </tr>\n",
       "  </thead>\n",
       "  <tbody>\n",
       "    <tr>\n",
       "      <th>0</th>\n",
       "      <td>1</td>\n",
       "      <td>Soil_1</td>\n",
       "      <td>Ga0599130</td>\n",
       "    </tr>\n",
       "    <tr>\n",
       "      <th>1</th>\n",
       "      <td>2</td>\n",
       "      <td>Soil_2</td>\n",
       "      <td>Ga0599130</td>\n",
       "    </tr>\n",
       "    <tr>\n",
       "      <th>2</th>\n",
       "      <td>3</td>\n",
       "      <td>Soil_3</td>\n",
       "      <td>Ga0599130</td>\n",
       "    </tr>\n",
       "    <tr>\n",
       "      <th>3</th>\n",
       "      <td>4</td>\n",
       "      <td>Soil_4</td>\n",
       "      <td>Ga0599131</td>\n",
       "    </tr>\n",
       "    <tr>\n",
       "      <th>4</th>\n",
       "      <td>5</td>\n",
       "      <td>Soil_5</td>\n",
       "      <td>Ga0599131</td>\n",
       "    </tr>\n",
       "    <tr>\n",
       "      <th>...</th>\n",
       "      <td>...</td>\n",
       "      <td>...</td>\n",
       "      <td>...</td>\n",
       "    </tr>\n",
       "    <tr>\n",
       "      <th>132</th>\n",
       "      <td>237</td>\n",
       "      <td>Soil_237</td>\n",
       "      <td>Ga0599147</td>\n",
       "    </tr>\n",
       "    <tr>\n",
       "      <th>133</th>\n",
       "      <td>130</td>\n",
       "      <td>Soil_130</td>\n",
       "      <td>Ga0599147</td>\n",
       "    </tr>\n",
       "    <tr>\n",
       "      <th>134</th>\n",
       "      <td>184</td>\n",
       "      <td>Soil_184</td>\n",
       "      <td>Ga0599147</td>\n",
       "    </tr>\n",
       "    <tr>\n",
       "      <th>135</th>\n",
       "      <td>211</td>\n",
       "      <td>Soil_211</td>\n",
       "      <td>Ga0599147</td>\n",
       "    </tr>\n",
       "    <tr>\n",
       "      <th>136</th>\n",
       "      <td>238</td>\n",
       "      <td>Soil_238</td>\n",
       "      <td>Ga0599147</td>\n",
       "    </tr>\n",
       "  </tbody>\n",
       "</table>\n",
       "<p>137 rows × 3 columns</p>\n",
       "</div>"
      ],
      "text/plain": [
       "     Sample.ID    JGI.ID    GOLD.ID\n",
       "0            1    Soil_1  Ga0599130\n",
       "1            2    Soil_2  Ga0599130\n",
       "2            3    Soil_3  Ga0599130\n",
       "3            4    Soil_4  Ga0599131\n",
       "4            5    Soil_5  Ga0599131\n",
       "..         ...       ...        ...\n",
       "132        237  Soil_237  Ga0599147\n",
       "133        130  Soil_130  Ga0599147\n",
       "134        184  Soil_184  Ga0599147\n",
       "135        211  Soil_211  Ga0599147\n",
       "136        238  Soil_238  Ga0599147\n",
       "\n",
       "[137 rows x 3 columns]"
      ]
     },
     "execution_count": 2,
     "metadata": {},
     "output_type": "execute_result"
    }
   ],
   "source": [
    "metadata = pd.read_csv('ccase_its_metadata.csv')\n",
    "metadata = metadata[['Sample.ID', 'JGI.ID', 'GOLD.ID']]\n",
    "metadata"
   ]
  },
  {
   "cell_type": "code",
   "execution_count": 11,
   "metadata": {},
   "outputs": [
    {
     "data": {
      "text/html": [
       "<div>\n",
       "<style scoped>\n",
       "    .dataframe tbody tr th:only-of-type {\n",
       "        vertical-align: middle;\n",
       "    }\n",
       "\n",
       "    .dataframe tbody tr th {\n",
       "        vertical-align: top;\n",
       "    }\n",
       "\n",
       "    .dataframe thead th {\n",
       "        text-align: right;\n",
       "    }\n",
       "</style>\n",
       "<table border=\"1\" class=\"dataframe\">\n",
       "  <thead>\n",
       "    <tr style=\"text-align: right;\">\n",
       "      <th></th>\n",
       "      <th>NCBI_NR_accession</th>\n",
       "      <th>is_restricted</th>\n",
       "      <th>is_public</th>\n",
       "      <th>species</th>\n",
       "      <th>genus</th>\n",
       "    </tr>\n",
       "  </thead>\n",
       "  <tbody>\n",
       "    <tr>\n",
       "      <th>1</th>\n",
       "      <td>NR_073238.1</td>\n",
       "      <td>N</td>\n",
       "      <td>Y</td>\n",
       "      <td>Fellomyces penicillatus</td>\n",
       "      <td>Fellomyces</td>\n",
       "    </tr>\n",
       "    <tr>\n",
       "      <th>3</th>\n",
       "      <td>NR_073294.1</td>\n",
       "      <td>N</td>\n",
       "      <td>Y</td>\n",
       "      <td>Rhodotorula glutinis</td>\n",
       "      <td>Rhodotorula</td>\n",
       "    </tr>\n",
       "    <tr>\n",
       "      <th>4</th>\n",
       "      <td>NR_073294.1</td>\n",
       "      <td>N</td>\n",
       "      <td>Y</td>\n",
       "      <td>Rhodosporidium glutinis</td>\n",
       "      <td>Rhodosporidium</td>\n",
       "    </tr>\n",
       "    <tr>\n",
       "      <th>5</th>\n",
       "      <td>NR_073296.1</td>\n",
       "      <td>N</td>\n",
       "      <td>Y</td>\n",
       "      <td>Rhodotorula mucilaginosa</td>\n",
       "      <td>Rhodotorula</td>\n",
       "    </tr>\n",
       "    <tr>\n",
       "      <th>6</th>\n",
       "      <td>NR_073324.1</td>\n",
       "      <td>N</td>\n",
       "      <td>Y</td>\n",
       "      <td>Slooffia pilatii</td>\n",
       "      <td>Slooffia</td>\n",
       "    </tr>\n",
       "    <tr>\n",
       "      <th>...</th>\n",
       "      <td>...</td>\n",
       "      <td>...</td>\n",
       "      <td>...</td>\n",
       "      <td>...</td>\n",
       "      <td>...</td>\n",
       "    </tr>\n",
       "    <tr>\n",
       "      <th>2551</th>\n",
       "      <td>NaN</td>\n",
       "      <td>N</td>\n",
       "      <td>Y</td>\n",
       "      <td>Annulohypoxylon minutellum</td>\n",
       "      <td>Annulohypoxylon</td>\n",
       "    </tr>\n",
       "    <tr>\n",
       "      <th>2552</th>\n",
       "      <td>NaN</td>\n",
       "      <td>N</td>\n",
       "      <td>Y</td>\n",
       "      <td>Suillus clintonianus</td>\n",
       "      <td>Suillus</td>\n",
       "    </tr>\n",
       "    <tr>\n",
       "      <th>2554</th>\n",
       "      <td>NaN</td>\n",
       "      <td>N</td>\n",
       "      <td>Y</td>\n",
       "      <td>Earliella scabrosa</td>\n",
       "      <td>Earliella</td>\n",
       "    </tr>\n",
       "    <tr>\n",
       "      <th>2555</th>\n",
       "      <td>NaN</td>\n",
       "      <td>N</td>\n",
       "      <td>Y</td>\n",
       "      <td>Rhizoscyphus ericae</td>\n",
       "      <td>Rhizoscyphus</td>\n",
       "    </tr>\n",
       "    <tr>\n",
       "      <th>2556</th>\n",
       "      <td>NaN</td>\n",
       "      <td>N</td>\n",
       "      <td>Y</td>\n",
       "      <td>Morchella kakiicolor</td>\n",
       "      <td>Morchella</td>\n",
       "    </tr>\n",
       "  </tbody>\n",
       "</table>\n",
       "<p>2127 rows × 5 columns</p>\n",
       "</div>"
      ],
      "text/plain": [
       "     NCBI_NR_accession is_restricted is_public                     species  \\\n",
       "1          NR_073238.1             N         Y     Fellomyces penicillatus   \n",
       "3          NR_073294.1             N         Y        Rhodotorula glutinis   \n",
       "4          NR_073294.1             N         Y     Rhodosporidium glutinis   \n",
       "5          NR_073296.1             N         Y    Rhodotorula mucilaginosa   \n",
       "6          NR_073324.1             N         Y            Slooffia pilatii   \n",
       "...                ...           ...       ...                         ...   \n",
       "2551               NaN             N         Y  Annulohypoxylon minutellum   \n",
       "2552               NaN             N         Y        Suillus clintonianus   \n",
       "2554               NaN             N         Y          Earliella scabrosa   \n",
       "2555               NaN             N         Y         Rhizoscyphus ericae   \n",
       "2556               NaN             N         Y        Morchella kakiicolor   \n",
       "\n",
       "                genus  \n",
       "1          Fellomyces  \n",
       "3         Rhodotorula  \n",
       "4      Rhodosporidium  \n",
       "5         Rhodotorula  \n",
       "6            Slooffia  \n",
       "...               ...  \n",
       "2551  Annulohypoxylon  \n",
       "2552          Suillus  \n",
       "2554        Earliella  \n",
       "2555     Rhizoscyphus  \n",
       "2556        Morchella  \n",
       "\n",
       "[2127 rows x 5 columns]"
      ]
     },
     "execution_count": 11,
     "metadata": {},
     "output_type": "execute_result"
    }
   ],
   "source": [
    "species_genus = pd.read_csv('mycocosm_its_merge.csv', encoding = 'latin-1')\n",
    "species_genus = species_genus[['NCBI_NR_accession', 'is_restricted', 'is_public', 'species', 'genus']]\n",
    "species_genus = species_genus.drop(species_genus[species_genus['is_restricted'] == 'Y'].index)\n",
    "species_genus\n",
    "\n",
    "# out of 2557, 2127 are not restricted"
   ]
  }
 ],
 "metadata": {
  "kernelspec": {
   "display_name": "Python 3",
   "language": "python",
   "name": "python3"
  },
  "language_info": {
   "codemirror_mode": {
    "name": "ipython",
    "version": 3
   },
   "file_extension": ".py",
   "mimetype": "text/x-python",
   "name": "python",
   "nbconvert_exporter": "python",
   "pygments_lexer": "ipython3",
   "version": "3.13.0"
  }
 },
 "nbformat": 4,
 "nbformat_minor": 2
}
