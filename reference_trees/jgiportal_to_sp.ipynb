{
 "cells": [
  {
   "cell_type": "raw",
   "metadata": {
    "vscode": {
     "languageId": "raw"
    }
   },
   "source": [
    "BLAST counts\n",
    "\n",
    "def blast_counts(fp):\n",
    "    blast = pd.read_csv(fp)\n",
    "    unique = blast['ASV_ID'].drop_duplicates()\n",
    "    return unique"
   ]
  },
  {
   "cell_type": "code",
   "execution_count": null,
   "metadata": {},
   "outputs": [],
   "source": [
    "import pandas as pd\n",
    "import matplotlib.pyplot as plt"
   ]
  },
  {
   "cell_type": "code",
   "execution_count": 2,
   "metadata": {},
   "outputs": [],
   "source": [
    "\n",
    "df = pd.read_csv(\"portalid_taxname.csv\")"
   ]
  },
  {
   "cell_type": "code",
   "execution_count": null,
   "metadata": {},
   "outputs": [],
   "source": [
    "df[['portal', 'species']]"
   ]
  },
  {
   "cell_type": "raw",
   "metadata": {},
   "source": [
    "ASV counts for each BLAST threshold\n",
    "\n",
    "50: 1401\n",
    "60: 1351\n",
    "70: 1257\n",
    "80: 1133\n",
    "90: 970"
   ]
  },
  {
   "cell_type": "code",
   "execution_count": null,
   "metadata": {},
   "outputs": [],
   "source": [
    "x = [50, 60, 70, 80, 90]\n",
    "y = [1401, 1351, 1257, 1133, 970]\n",
    "plt.plot(x, y, '-o')"
   ]
  },
  {
   "cell_type": "raw",
   "metadata": {
    "vscode": {
     "languageId": "raw"
    }
   },
   "source": [
    "MMG with species only"
   ]
  },
  {
   "cell_type": "code",
   "execution_count": null,
   "metadata": {},
   "outputs": [],
   "source": [
    "metadata = pd.read_csv('ccase_its_metadata.csv')\n",
    "metadata = metadata[['Sample.ID', 'JGI.ID', 'GOLD.ID']]\n",
    "metadata"
   ]
  },
  {
   "cell_type": "code",
   "execution_count": null,
   "metadata": {},
   "outputs": [],
   "source": [
    "species_genus = pd.read_csv('mycocosm_its_merge.csv', encoding = 'latin-1')\n",
    "species_genus = species_genus[['NCBI_NR_accession', 'is_restricted', 'is_public', 'species', 'genus']]\n",
    "species_genus = species_genus.drop(species_genus[species_genus['is_restricted'] == 'Y'].index)\n",
    "species_genus\n",
    "\n",
    "# out of 2557, 2127 are not restricted"
   ]
  }
 ],
 "metadata": {
  "kernelspec": {
   "display_name": "Python 3",
   "language": "python",
   "name": "python3"
  },
  "language_info": {
   "codemirror_mode": {
    "name": "ipython",
    "version": 3
   },
   "file_extension": ".py",
   "mimetype": "text/x-python",
   "name": "python",
   "nbconvert_exporter": "python",
   "pygments_lexer": "ipython3",
   "version": "3.12.6"
  }
 },
 "nbformat": 4,
 "nbformat_minor": 2
}
