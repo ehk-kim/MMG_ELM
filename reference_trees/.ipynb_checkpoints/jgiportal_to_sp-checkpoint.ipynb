{
 "cells": [
  {
   "cell_type": "raw",
   "metadata": {
    "vscode": {
     "languageId": "raw"
    }
   },
   "source": [
    "BLAST counts\n",
    "\n",
    "def blast_counts(fp):\n",
    "    blast = pd.read_csv(fp)\n",
    "    unique = blast['ASV_ID'].drop_duplicates()\n",
    "    return unique"
   ]
  },
  {
   "cell_type": "code",
   "execution_count": 2,
   "metadata": {},
   "outputs": [],
   "source": [
    "import pandas as pd\n",
    "#import matplotlib.pyplot as plt"
   ]
  },
  {
   "cell_type": "code",
   "execution_count": 7,
   "metadata": {},
   "outputs": [
    {
     "data": {
      "text/html": [
       "<div>\n",
       "<style scoped>\n",
       "    .dataframe tbody tr th:only-of-type {\n",
       "        vertical-align: middle;\n",
       "    }\n",
       "\n",
       "    .dataframe tbody tr th {\n",
       "        vertical-align: top;\n",
       "    }\n",
       "\n",
       "    .dataframe thead th {\n",
       "        text-align: right;\n",
       "    }\n",
       "</style>\n",
       "<table border=\"1\" class=\"dataframe\">\n",
       "  <thead>\n",
       "    <tr style=\"text-align: right;\">\n",
       "      <th></th>\n",
       "      <th>portal</th>\n",
       "      <th>species</th>\n",
       "    </tr>\n",
       "  </thead>\n",
       "  <tbody>\n",
       "    <tr>\n",
       "      <th>0</th>\n",
       "      <td>Rhoglu91_1</td>\n",
       "      <td>Rhodosporidium glutinis</td>\n",
       "    </tr>\n",
       "    <tr>\n",
       "      <th>1</th>\n",
       "      <td>Lst7851_1</td>\n",
       "      <td>Lipomyces starkeyi</td>\n",
       "    </tr>\n",
       "    <tr>\n",
       "      <th>2</th>\n",
       "      <td>Lipsta1_1</td>\n",
       "      <td>Lipomyces starkeyi</td>\n",
       "    </tr>\n",
       "    <tr>\n",
       "      <th>3</th>\n",
       "      <td>Lst8064_1</td>\n",
       "      <td>Lipomyces starkeyi</td>\n",
       "    </tr>\n",
       "    <tr>\n",
       "      <th>4</th>\n",
       "      <td>Lst7536_1</td>\n",
       "      <td>Lipomyces starkeyi</td>\n",
       "    </tr>\n",
       "    <tr>\n",
       "      <th>...</th>\n",
       "      <td>...</td>\n",
       "      <td>...</td>\n",
       "    </tr>\n",
       "    <tr>\n",
       "      <th>1461</th>\n",
       "      <td>Neolan1</td>\n",
       "      <td>Neocallimastix lanati</td>\n",
       "    </tr>\n",
       "    <tr>\n",
       "      <th>1462</th>\n",
       "      <td>LboTFB7829_1</td>\n",
       "      <td>Lentinula detonsa</td>\n",
       "    </tr>\n",
       "    <tr>\n",
       "      <th>1463</th>\n",
       "      <td>Chame1</td>\n",
       "      <td>Chaetomium sp.</td>\n",
       "    </tr>\n",
       "    <tr>\n",
       "      <th>1464</th>\n",
       "      <td>Colny1</td>\n",
       "      <td>Colletotrichum nymphaeae</td>\n",
       "    </tr>\n",
       "    <tr>\n",
       "      <th>1465</th>\n",
       "      <td>Calmar1</td>\n",
       "      <td>Calycina marina</td>\n",
       "    </tr>\n",
       "  </tbody>\n",
       "</table>\n",
       "<p>1466 rows × 2 columns</p>\n",
       "</div>"
      ],
      "text/plain": [
       "            portal                   species\n",
       "0       Rhoglu91_1   Rhodosporidium glutinis\n",
       "1        Lst7851_1        Lipomyces starkeyi\n",
       "2        Lipsta1_1        Lipomyces starkeyi\n",
       "3        Lst8064_1        Lipomyces starkeyi\n",
       "4        Lst7536_1        Lipomyces starkeyi\n",
       "...            ...                       ...\n",
       "1461       Neolan1     Neocallimastix lanati\n",
       "1462  LboTFB7829_1         Lentinula detonsa\n",
       "1463        Chame1            Chaetomium sp.\n",
       "1464        Colny1  Colletotrichum nymphaeae\n",
       "1465       Calmar1           Calycina marina\n",
       "\n",
       "[1466 rows x 2 columns]"
      ]
     },
     "execution_count": 7,
     "metadata": {},
     "output_type": "execute_result"
    }
   ],
   "source": [
    "df = pd.read_csv(\"portalid_taxname.csv\")\n",
    "df = df[['portal', 'species']]\n",
    "df"
   ]
  },
  {
   "cell_type": "code",
   "execution_count": null,
   "metadata": {},
   "outputs": [],
   "source": [
    "with open(\"jgi.txt\", \"r\") as newick_file:\n",
    "    newick_content = newick_file.read()\n",
    "\n",
    "# Replace portal_id with species_name\n",
    "for _, row in df.iterrows():\n",
    "    portal_id = str(row['portal'])  # Ensure portal_id is a string\n",
    "    species_name = row['species']\n",
    "    newick_content = newick_content.replace(portal_id, species_name)\n",
    "\n",
    "# Write the updated Newick content to a new file\n",
    "with open(\"modified_newick_file\", \"w\") as output_file:\n",
    "    output_file.write(newick_content)"
   ]
  },
  {
   "cell_type": "raw",
   "metadata": {
    "vscode": {
     "languageId": "raw"
    }
   },
   "source": [
    "Prune duplicate leaves in the half-pruned JGI tree"
   ]
  },
  {
   "cell_type": "code",
   "execution_count": 12,
   "metadata": {},
   "outputs": [],
   "source": [
    "from collections import Counter\n",
    "from ete3 import Tree\n",
    "\n",
    "def detect_duplicates(tree):\n",
    "    \"\"\"\n",
    "    Detect duplicate leaf names in a phylogenetic tree.\n",
    "    \n",
    "    :param tree: ETE3 Tree object\n",
    "    :return: A list of lists, where each inner list contains duplicate leaf names\n",
    "    \"\"\"\n",
    "    # Get all leaf names\n",
    "    leaf_names = [leaf.name for leaf in tree.iter_leaves()]\n",
    "    \n",
    "    # Count occurrences of each name\n",
    "    name_counts = Counter(leaf_names)\n",
    "    \n",
    "    # Find names that appear more than once\n",
    "    duplicates = [name for name, count in name_counts.items() if count > 1]\n",
    "    \n",
    "    # Group leaves with duplicate names\n",
    "    duplicate_groups = []\n",
    "    for dup in duplicates:\n",
    "        duplicate_groups.append([leaf.name for leaf in tree.iter_leaves() if leaf.name == dup])\n",
    "    \n",
    "    return duplicate_groups\n",
    "\n",
    "# Example usage\n",
    "with open(\"jgi_half_pruned.txt\", \"r\") as newick_tree:\n",
    "    newick_content = newick_tree.read()\n",
    "tree = Tree(newick_content, format=1)\n",
    "\n",
    "# Detect duplicate leaves\n",
    "duplicate_groups = detect_duplicates(tree)\n"
   ]
  },
  {
   "cell_type": "code",
   "execution_count": 13,
   "metadata": {},
   "outputs": [
    {
     "ename": "TreeError",
     "evalue": "'Ambiguous node name: Golovinomyces_cichoracearum'",
     "output_type": "error",
     "traceback": [
      "\u001b[0;31m---------------------------------------------------------------------------\u001b[0m",
      "\u001b[0;31mTreeError\u001b[0m                                 Traceback (most recent call last)",
      "Cell \u001b[0;32mIn[13], line 18\u001b[0m\n\u001b[1;32m     15\u001b[0m     \u001b[38;5;28;01mreturn\u001b[39;00m tree\n\u001b[1;32m     17\u001b[0m \u001b[38;5;66;03m# Condense duplicates\u001b[39;00m\n\u001b[0;32m---> 18\u001b[0m condensed_tree \u001b[38;5;241m=\u001b[39m condense_duplicates(tree, duplicate_groups)\n\u001b[1;32m     20\u001b[0m \u001b[38;5;66;03m# Print the modified tree\u001b[39;00m\n\u001b[1;32m     21\u001b[0m \u001b[38;5;66;03m# print(condensed_tree.write())\u001b[39;00m\n\u001b[1;32m     23\u001b[0m \u001b[38;5;28;01mwith\u001b[39;00m \u001b[38;5;28mopen\u001b[39m(\u001b[38;5;124m\"\u001b[39m\u001b[38;5;124mtest.txt\u001b[39m\u001b[38;5;124m\"\u001b[39m, \u001b[38;5;124m\"\u001b[39m\u001b[38;5;124mw\u001b[39m\u001b[38;5;124m\"\u001b[39m) \u001b[38;5;28;01mas\u001b[39;00m outf:\n",
      "Cell \u001b[0;32mIn[13], line 4\u001b[0m, in \u001b[0;36mcondense_duplicates\u001b[0;34m(tree, duplicate_leaves)\u001b[0m\n\u001b[1;32m      1\u001b[0m \u001b[38;5;28;01mdef\u001b[39;00m \u001b[38;5;21mcondense_duplicates\u001b[39m(tree, duplicate_leaves):\n\u001b[1;32m      2\u001b[0m     \u001b[38;5;28;01mfor\u001b[39;00m duplicates \u001b[38;5;129;01min\u001b[39;00m duplicate_leaves:\n\u001b[1;32m      3\u001b[0m         \u001b[38;5;66;03m# Get the common ancestor of the duplicates\u001b[39;00m\n\u001b[0;32m----> 4\u001b[0m         ancestor \u001b[38;5;241m=\u001b[39m tree\u001b[38;5;241m.\u001b[39mget_common_ancestor(duplicates)\n\u001b[1;32m      5\u001b[0m         \u001b[38;5;66;03m# Choose one leaf to keep (e.g., the first in the list)\u001b[39;00m\n\u001b[1;32m      6\u001b[0m         keep \u001b[38;5;241m=\u001b[39m duplicates[\u001b[38;5;241m0\u001b[39m]\n",
      "File \u001b[0;32m/opt/anaconda3/envs/reftree/lib/python3.12/site-packages/ete3/coretype/tree.py:887\u001b[0m, in \u001b[0;36mTreeNode.get_common_ancestor\u001b[0;34m(self, *target_nodes, **kargs)\u001b[0m\n\u001b[1;32m    884\u001b[0m     target_nodes \u001b[38;5;241m=\u001b[39m target_nodes[\u001b[38;5;241m0\u001b[39m]\n\u001b[1;32m    886\u001b[0m \u001b[38;5;66;03m# Convert node names into node instances\u001b[39;00m\n\u001b[0;32m--> 887\u001b[0m target_nodes \u001b[38;5;241m=\u001b[39m _translate_nodes(\u001b[38;5;28mself\u001b[39m, \u001b[38;5;241m*\u001b[39mtarget_nodes)\n\u001b[1;32m    890\u001b[0m \u001b[38;5;28;01mif\u001b[39;00m \u001b[38;5;28mtype\u001b[39m(target_nodes) \u001b[38;5;241m!=\u001b[39m \u001b[38;5;28mlist\u001b[39m:\n\u001b[1;32m    891\u001b[0m     \u001b[38;5;66;03m# If only one node is provided and is the same as the seed node,\u001b[39;00m\n\u001b[1;32m    892\u001b[0m     \u001b[38;5;66;03m# return itself\u001b[39;00m\n\u001b[1;32m    893\u001b[0m     \u001b[38;5;28;01mif\u001b[39;00m target_nodes \u001b[38;5;129;01mis\u001b[39;00m \u001b[38;5;28mself\u001b[39m:\n",
      "File \u001b[0;32m/opt/anaconda3/envs/reftree/lib/python3.12/site-packages/ete3/coretype/tree.py:2595\u001b[0m, in \u001b[0;36m_translate_nodes\u001b[0;34m(root, *nodes)\u001b[0m\n\u001b[1;32m   2593\u001b[0m \u001b[38;5;28;01mif\u001b[39;00m n\u001b[38;5;241m.\u001b[39mname \u001b[38;5;129;01min\u001b[39;00m name2node:\n\u001b[1;32m   2594\u001b[0m     \u001b[38;5;28;01mif\u001b[39;00m name2node[n\u001b[38;5;241m.\u001b[39mname] \u001b[38;5;129;01mis\u001b[39;00m \u001b[38;5;129;01mnot\u001b[39;00m \u001b[38;5;28;01mNone\u001b[39;00m:\n\u001b[0;32m-> 2595\u001b[0m         \u001b[38;5;28;01mraise\u001b[39;00m TreeError(\u001b[38;5;124m\"\u001b[39m\u001b[38;5;124mAmbiguous node name: \u001b[39m\u001b[38;5;124m\"\u001b[39m\u001b[38;5;241m+\u001b[39m\u001b[38;5;28mstr\u001b[39m(n\u001b[38;5;241m.\u001b[39mname))\n\u001b[1;32m   2596\u001b[0m     \u001b[38;5;28;01melse\u001b[39;00m:\n\u001b[1;32m   2597\u001b[0m         name2node[n\u001b[38;5;241m.\u001b[39mname] \u001b[38;5;241m=\u001b[39m n\n",
      "\u001b[0;31mTreeError\u001b[0m: 'Ambiguous node name: Golovinomyces_cichoracearum'"
     ]
    }
   ],
   "source": [
    "def condense_duplicates(tree, duplicate_leaves):\n",
    "    for duplicates in duplicate_leaves:\n",
    "        # Get the common ancestor of the duplicates\n",
    "        ancestor = tree.get_common_ancestor(duplicates)\n",
    "        # Choose one leaf to keep (e.g., the first in the list)\n",
    "        keep = duplicates[0]\n",
    "        # Remove all other leaves except the one to keep\n",
    "        for leaf in duplicates:\n",
    "            if leaf != keep:\n",
    "                tree.search_nodes(name=leaf)[0].delete()\n",
    "\n",
    "        # Rename the ancestral node to reflect the retained leaf\n",
    "        ancestor.name = keep\n",
    "\n",
    "    return tree\n",
    "\n",
    "# Condense duplicates\n",
    "# problem in this line; problem comes up with Golovinomyces_cichoracearum\n",
    "condensed_tree = condense_duplicates(tree, duplicate_groups)\n",
    "\n",
    "# Print the modified tree\n",
    "# print(condensed_tree.write())\n",
    "\n",
    "with open(\"test.txt\", \"w\") as outf:\n",
    "    outf.write(condensed_tree)"
   ]
  },
  {
   "cell_type": "raw",
   "metadata": {
    "vscode": {
     "languageId": "raw"
    }
   },
   "source": [
    "MMG with species only"
   ]
  },
  {
   "cell_type": "code",
   "execution_count": null,
   "metadata": {},
   "outputs": [],
   "source": [
    "metadata = pd.read_csv('ccase_its_metadata.csv')\n",
    "metadata = metadata[['Sample.ID', 'JGI.ID', 'GOLD.ID']]\n",
    "metadata"
   ]
  },
  {
   "cell_type": "code",
   "execution_count": null,
   "metadata": {},
   "outputs": [],
   "source": [
    "species_genus = pd.read_csv('mycocosm_its_merge.csv', encoding = 'latin-1')\n",
    "species_genus = species_genus[['NCBI_NR_accession', 'is_restricted', 'is_public', 'species', 'genus']]\n",
    "species_genus = species_genus.drop(species_genus[species_genus['is_restricted'] == 'Y'].index)\n",
    "species_genus\n",
    "\n",
    "# out of 2557, 2127 are not restricted"
   ]
  }
 ],
 "metadata": {
  "kernelspec": {
   "display_name": "reftree",
   "language": "python",
   "name": "python3"
  },
  "language_info": {
   "codemirror_mode": {
    "name": "ipython",
    "version": 3
   },
   "file_extension": ".py",
   "mimetype": "text/x-python",
   "name": "python",
   "nbconvert_exporter": "python",
   "pygments_lexer": "ipython3",
   "version": "3.12.6"
  }
 },
 "nbformat": 4,
 "nbformat_minor": 2
}
